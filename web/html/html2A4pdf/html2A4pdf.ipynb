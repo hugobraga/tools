{
 "cells": [
  {
   "cell_type": "code",
   "execution_count": null,
   "id": "0",
   "metadata": {},
   "outputs": [],
   "source": [
    "!pip install -q pdfkit"
   ]
  },
  {
   "cell_type": "code",
   "execution_count": null,
   "id": "1",
   "metadata": {},
   "outputs": [],
   "source": [
    "!pip install -q fpdf"
   ]
  },
  {
   "cell_type": "code",
   "execution_count": null,
   "id": "2",
   "metadata": {},
   "outputs": [],
   "source": [
    "import os\n",
    "import pdfkit\n",
    "from bs4 import BeautifulSoup"
   ]
  },
  {
   "cell_type": "code",
   "execution_count": null,
   "id": "3",
   "metadata": {},
   "outputs": [],
   "source": [
    "def preprocess_html(input_html, output_html):\n",
    "    \"\"\"\n",
    "    Preprocess HTML to ensure long text and images fit within A4 format.\n",
    "    Args:\n",
    "        input_html (str): Path to the input HTML file.\n",
    "        output_html (str): Path to save the modified HTML file.\n",
    "    \"\"\"\n",
    "    with open(input_html, \"r\", encoding=\"utf-8\") as file:\n",
    "        soup = BeautifulSoup(file, \"html.parser\")\n",
    "\n",
    "    # Add CSS to avoid word splitting and resize images\n",
    "    style_tag = soup.new_tag(\"style\")\n",
    "    style_tag.string = \"\"\"\n",
    "    body, p {\n",
    "        word-wrap: break-word;\n",
    "        overflow-wrap: break-word;\n",
    "        hyphens: none;\n",
    "    }\n",
    "    img {\n",
    "        max-width: 190mm;\n",
    "        height: auto;\n",
    "    }\n",
    "    @media print {\n",
    "        .page-break {\n",
    "            page-break-before: always;\n",
    "        }\n",
    "    }\n",
    "    \"\"\"\n",
    "    soup.head.append(style_tag)\n",
    "\n",
    "    # Save the modified HTML\n",
    "    with open(output_html, \"w\", encoding=\"utf-8\") as file:\n",
    "        file.write(str(soup))"
   ]
  },
  {
   "cell_type": "code",
   "execution_count": null,
   "id": "4",
   "metadata": {},
   "outputs": [],
   "source": [
    "def html_to_pdf(input_html, output_pdf, wkhtmltopdf_path):\n",
    "    \"\"\"\n",
    "    Converts an HTML file to a PDF with A4 page size.\n",
    "    Args:\n",
    "        input_html (str): Path to the input HTML file.\n",
    "        output_pdf (str): Path to the output PDF file.\n",
    "        wkhtmltopdf_path (str): Path to the wkhtmltopdf executable.\n",
    "    \"\"\"\n",
    "    # Configure path to wkhtmltopdf executable\n",
    "    config = pdfkit.configuration(wkhtmltopdf=wkhtmltopdf_path)\n",
    "\n",
    "    # PDF options\n",
    "    options = {\n",
    "        'page-size': 'A4',\n",
    "        'margin-top': '15mm',\n",
    "        'margin-right': '15mm',\n",
    "        'margin-bottom': '15mm',\n",
    "        'margin-left': '15mm',\n",
    "        'encoding': 'UTF-8',\n",
    "        'enable-local-file-access': '',  # Required to access local resources like images\n",
    "    }\n",
    "\n",
    "    try:\n",
    "        pdfkit.from_file(input_html, output_pdf, options=options, configuration=config)\n",
    "        print(f\"PDF successfully created: {output_pdf}\")\n",
    "    except Exception as e:\n",
    "        print(f\"Error during PDF creation: {e}\")"
   ]
  },
  {
   "cell_type": "code",
   "execution_count": null,
   "id": "5",
   "metadata": {},
   "outputs": [],
   "source": [
    "# CONFIGURACAO DOS PARAMETROS\n",
    "RELATIVE_HTML_FILES_DIR = os.path.join(os.getcwd(), \"data/example2\")\n",
    "HTML_FILE_NAME = \"PRJD16.html\"\n",
    "PREPROCESSED_TEMP_HTML = \"preprocessed.html\"\n",
    "OUTPUT_PDF_FILE_NAME = \"output.pdf\"\n",
    "WKHTMLTOPDF_PATH = '/usr/local/bin/wkhtmltopdf'\n",
    "\n",
    "input_html_file = os.path.join(RELATIVE_HTML_FILES_DIR, HTML_FILE_NAME)\n",
    "preprocessed_html_file = os.path.join(RELATIVE_HTML_FILES_DIR, PREPROCESSED_TEMP_HTML)\n",
    "output_pdf_file = os.path.join(RELATIVE_HTML_FILES_DIR, OUTPUT_PDF_FILE_NAME)\n",
    "\n",
    "# Preprocessa HTML e gera PDF\n",
    "try:\n",
    "    preprocess_html(input_html_file, preprocessed_html_file)\n",
    "    html_to_pdf(preprocessed_html_file, output_pdf_file, WKHTMLTOPDF_PATH)\n",
    "finally:\n",
    "    # Delete the temporary file after PDF generation\n",
    "    if os.path.exists(preprocessed_html_file):\n",
    "        os.remove(preprocessed_html_file)"
   ]
  }
 ],
 "metadata": {
  "kernelspec": {
   "display_name": "Python 3",
   "language": "python",
   "name": "python3"
  },
  "language_info": {
   "codemirror_mode": {
    "name": "ipython",
    "version": 2
   },
   "file_extension": ".py",
   "mimetype": "text/x-python",
   "name": "python",
   "nbconvert_exporter": "python",
   "pygments_lexer": "ipython2",
   "version": "2.7.6"
  }
 },
 "nbformat": 4,
 "nbformat_minor": 5
}
